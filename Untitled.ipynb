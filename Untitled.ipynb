{
 "cells": [
  {
   "cell_type": "code",
   "execution_count": 10,
   "id": "20d7611f",
   "metadata": {},
   "outputs": [
    {
     "name": "stdout",
     "output_type": "stream",
     "text": [
      "max value 0.9300461411476135\n",
      "Match not found (Below 80%)\n"
     ]
    }
   ],
   "source": [
    "import cv2\n",
    "import numpy as np\n",
    "\n",
    "main_image = 'main.png'\n",
    "template_image = 'part_4.png'\n",
    "def match_template(main_image_path, template_image_path, threshold=0.8):\n",
    "    # Load the main image (the one you want to search within)\n",
    "    main_image = cv2.imread(main_image_path)\n",
    "    # Load the template image (the part you want to find)\n",
    "    template_image = cv2.imread(template_image_path)\n",
    "\n",
    "    # Convert both images to grayscale\n",
    "    main_gray = cv2.cvtColor(main_image, cv2.COLOR_BGR2GRAY)\n",
    "    template_gray = cv2.cvtColor(template_image, cv2.COLOR_BGR2GRAY)\n",
    "\n",
    "    # Perform template matching\n",
    "    result = cv2.matchTemplate(main_gray, template_gray, cv2.TM_CCOEFF_NORMED)\n",
    "\n",
    "    # Find the maximum matching value and its location\n",
    "    min_val, max_val, min_loc, max_loc = cv2.minMaxLoc(result)\n",
    "    print(\"max value\", max_val)\n",
    "    # Check if the maximum matching value is above the threshold\n",
    "    if max_val >= threshold:\n",
    "        return True\n",
    "    else:\n",
    "        return False\n",
    "\n",
    "# Example usage\n",
    "if match_template(main_image, template_image, threshold=0.95):\n",
    "    print(\"Match found (Above 80%)\")\n",
    "else:\n",
    "    print(\"Match not found (Below 80%)\")\n"
   ]
  }
 ],
 "metadata": {
  "kernelspec": {
   "display_name": "Python 3 (ipykernel)",
   "language": "python",
   "name": "python3"
  },
  "language_info": {
   "codemirror_mode": {
    "name": "ipython",
    "version": 3
   },
   "file_extension": ".py",
   "mimetype": "text/x-python",
   "name": "python",
   "nbconvert_exporter": "python",
   "pygments_lexer": "ipython3",
   "version": "3.10.4"
  }
 },
 "nbformat": 4,
 "nbformat_minor": 5
}
